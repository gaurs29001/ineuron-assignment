{
 "cells": [
  {
   "cell_type": "markdown",
   "id": "453f51a7",
   "metadata": {},
   "source": [
    "#1.What are the two values of the Boolean data type? How do you write them?\n",
    "\n",
    "Answer:\n",
    "\n",
    "True and False are the two values of the Boolean data type.\n",
    "\n",
    "abc = True\n",
    "def = False"
   ]
  },
  {
   "cell_type": "markdown",
   "id": "eaa8a510",
   "metadata": {},
   "source": [
    "#2.What are the three different types of Boolean operators?\n",
    "\n",
    "1. and\n",
    "2. or\n",
    "3. not"
   ]
  },
  {
   "cell_type": "markdown",
   "id": "7971b1c8",
   "metadata": {},
   "source": [
    "#3. Make a list of each Boolean operator's truth tables (i.e. every possible combination of Boolean\n",
    "values for the operator and what it evaluate ).\n",
    "\n",
    "True and False -> False\n",
    "\n",
    "True and True -> True\n",
    "\n",
    "False and True -> False\n",
    "\n",
    "False and False -> False\n",
    "\n",
    "True or True -> True\n",
    "\n",
    "True or False -> True\n",
    "\n",
    "False or False -> False\n",
    "\n",
    "False or True -> True\n",
    "\n",
    "not(True) -> False\n",
    "\n",
    "not(False) -> True\n"
   ]
  },
  {
   "cell_type": "markdown",
   "id": "f0e02540",
   "metadata": {},
   "source": [
    "#4. What are the values of the following expressions?\n",
    "\n",
    "(5 > 4) and (3 == 5) -> False, \n",
    "\n",
    "not (5 > 4) -> False, \n",
    "\n",
    "(5 > 4) or (3 == 5) -> True, \n",
    "\n",
    "not ((5 > 4) or (3 == 5)) -> False, \n",
    "\n",
    "(True and True) and (True == False) -> False, \n",
    "\n",
    "(not False) or (not True) -> True"
   ]
  },
  {
   "cell_type": "markdown",
   "id": "32e8f57c",
   "metadata": {},
   "source": [
    "#5. What are the six comparison operators?\n",
    "\n",
    "<, >, >=, <=, !=, =="
   ]
  },
  {
   "cell_type": "markdown",
   "id": "216a220c",
   "metadata": {},
   "source": [
    "#6. How do you tell the difference between the equal to and assignment operators?Describe a\n",
    "#condition and when you would use one.\n",
    "\n",
    "\n",
    "Assignment operator (=) whereas equal conditional operator (==)\n",
    "\n",
    "Ex: abc = 10 # this statement assigns 10 to variable abc\n",
    "\n",
    "\n",
    "abc == 10 # this statement evaluates whether abc is equivalent to 10 or not. In this case, it is , so its result is True"
   ]
  },
  {
   "cell_type": "markdown",
   "id": "84a5ddc0",
   "metadata": {},
   "source": [
    "#7. Identify the three blocks in this code:\n",
    "\n",
    "1.spam = 0\n",
    "\n",
    "2.if spam == 10:\n",
    "\n",
    "3.print('eggs')\n",
    "\n",
    "4.if spam > 5:\n",
    "\n",
    "5.print('bacon')\n",
    "\n",
    "6.else:\n",
    "\n",
    "7.print('ham')\n",
    "\n",
    "8.print('spam')\n",
    "\n",
    "9.print('spam')\n",
    "\n",
    "First Block : 2,3 lines (if block)\n",
    "\n",
    "Second Block: 4,5 lines (if block)\n",
    "\n",
    "Third Block: 6,7 lines (else block)\n",
    "\n",
    "**Note: Identation is issue in the question, so above answer is ignoring that."
   ]
  },
  {
   "cell_type": "code",
   "execution_count": 3,
   "id": "c6f5ab42",
   "metadata": {},
   "outputs": [
    {
     "name": "stdout",
     "output_type": "stream",
     "text": [
      "1\n",
      "Hello\n"
     ]
    }
   ],
   "source": [
    "#8. Write code that prints Hello if 1 is stored in spam, prints Howdy if 2 is stored in spam, and prints\n",
    "#Greetings! if anything else is stored in spam.\n",
    "spam = int(input())\n",
    "if spam == 1:\n",
    "    print('Hello')\n",
    "elif spam == 2:\n",
    "    print('Howdy')\n",
    "else:\n",
    "    print('Greetings!')"
   ]
  },
  {
   "cell_type": "markdown",
   "id": "fb48b29b",
   "metadata": {},
   "source": [
    "#9.If your programme is stuck in an endless loop, what keys you’ll press?\n",
    "\n",
    "Answer:\n",
    "\n",
    "press twice Key 'I' for interruption or twice key '0' for restart"
   ]
  },
  {
   "cell_type": "markdown",
   "id": "f4a6c51f",
   "metadata": {},
   "source": [
    "#10. How can you tell the difference between break and continue?\n",
    "\n",
    "ANSWER:\n",
    "\n",
    "Break statement exits the loop and skips any pending iterations\n",
    "\n",
    "Conitnue statement exists the current iteration and executes any pending iterations till the loop condition is vaild"
   ]
  },
  {
   "cell_type": "markdown",
   "id": "8a14305c",
   "metadata": {},
   "source": [
    "#11. In a for loop, what is the difference between range(10), range(0, 10), and range(0, 10, 1)?\n",
    "\n",
    "ANSWER:\n",
    "\n",
    "There is no difference above mentioned range parameterized functions, all will loop 10 times.\n"
   ]
  },
  {
   "cell_type": "code",
   "execution_count": 10,
   "id": "ac45a26d",
   "metadata": {},
   "outputs": [
    {
     "name": "stdout",
     "output_type": "stream",
     "text": [
      "for loop\n",
      "1 2 3 4 5 6 7 8 9 10 \n",
      "while loop\n",
      "1 2 3 4 5 6 7 8 9 10 "
     ]
    }
   ],
   "source": [
    "#12. Write a short program that prints the numbers 1 to 10 using a for loop. Then write an equivalent\n",
    "#program that prints the numbers 1 to 10 using a while loop.\n",
    "\n",
    "print('for loop')\n",
    "\n",
    "for i in range(1,11):\n",
    "    print(i, end=' ')\n",
    "\n",
    "print('\\nwhile loop')\n",
    "i=1\n",
    "while i<11:\n",
    "    print(i, end=' ')\n",
    "    i +=1"
   ]
  },
  {
   "cell_type": "markdown",
   "id": "a17615c8",
   "metadata": {},
   "source": [
    "#13. If you had a function named bacon() inside a module named spam, how would you call it after\n",
    "#importing spam?\n",
    "\n",
    "ANSWER:\n",
    "spam.bacon()"
   ]
  },
  {
   "cell_type": "code",
   "execution_count": null,
   "id": "721c0c33",
   "metadata": {},
   "outputs": [],
   "source": []
  }
 ],
 "metadata": {
  "kernelspec": {
   "display_name": "Python 3 (ipykernel)",
   "language": "python",
   "name": "python3"
  },
  "language_info": {
   "codemirror_mode": {
    "name": "ipython",
    "version": 3
   },
   "file_extension": ".py",
   "mimetype": "text/x-python",
   "name": "python",
   "nbconvert_exporter": "python",
   "pygments_lexer": "ipython3",
   "version": "3.9.7"
  }
 },
 "nbformat": 4,
 "nbformat_minor": 5
}
