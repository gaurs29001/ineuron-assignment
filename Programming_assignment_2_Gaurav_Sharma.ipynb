{
 "cells": [
  {
   "cell_type": "code",
   "execution_count": 1,
   "id": "35ba94de",
   "metadata": {},
   "outputs": [],
   "source": [
    "#1. Write a Python program to convert kilometers to miles?\n",
    "def km_2_mile(in_km):\n",
    "    print(str(round(0.621371 * in_km,3)) + ' miles')"
   ]
  },
  {
   "cell_type": "code",
   "execution_count": 2,
   "id": "01dab913",
   "metadata": {},
   "outputs": [
    {
     "name": "stdout",
     "output_type": "stream",
     "text": [
      "15.534 miles\n"
     ]
    }
   ],
   "source": [
    "km_2_mile(25)"
   ]
  },
  {
   "cell_type": "code",
   "execution_count": 3,
   "id": "a9cf6b92",
   "metadata": {},
   "outputs": [],
   "source": [
    "#2. Write a Python program to convert Celsius to Fahrenheit?\n",
    "def c_2_f(in_cel):\n",
    "    print(str(round(in_cel*(9/5)+32,2)), '°F')"
   ]
  },
  {
   "cell_type": "code",
   "execution_count": 4,
   "id": "7ec4b12b",
   "metadata": {},
   "outputs": [
    {
     "name": "stdout",
     "output_type": "stream",
     "text": [
      "35.6 °F\n"
     ]
    }
   ],
   "source": [
    "c_2_f(2)"
   ]
  },
  {
   "cell_type": "code",
   "execution_count": 5,
   "id": "6411cb39",
   "metadata": {},
   "outputs": [
    {
     "name": "stdout",
     "output_type": "stream",
     "text": [
      "     June 2022\n",
      "Mo Tu We Th Fr Sa Su\n",
      "       1  2  3  4  5\n",
      " 6  7  8  9 10 11 12\n",
      "13 14 15 16 17 18 19\n",
      "20 21 22 23 24 25 26\n",
      "27 28 29 30\n",
      "\n"
     ]
    }
   ],
   "source": [
    "#3. Write a Python program to display calendar?\n",
    "import calendar\n",
    "print(calendar.month(2022,6))"
   ]
  },
  {
   "cell_type": "code",
   "execution_count": 6,
   "id": "f2d2d573",
   "metadata": {},
   "outputs": [],
   "source": [
    "#4. Write a Python program to solve quadratic equation?\n",
    "#ax2 + bx +c\n",
    "import math\n",
    "def quad(a, b, c):\n",
    "    d = b*b - 4*a*c\n",
    "    if d >= 0:\n",
    "        x1 = (-b - math.sqrt(d))/2*a\n",
    "        x2 = (-b + math.sqrt(d))/2*a\n",
    "    else:\n",
    "        x1 = (-b - complex(0,math.sqrt(-d)))/complex(2*a,0)\n",
    "        x2 = (-b + complex(0,math.sqrt(-d)))/complex(2*a,0)\n",
    "    return x1, x2"
   ]
  },
  {
   "cell_type": "code",
   "execution_count": 7,
   "id": "f981ca1f",
   "metadata": {},
   "outputs": [
    {
     "data": {
      "text/plain": [
       "((-2-1j), (-2+1j))"
      ]
     },
     "execution_count": 7,
     "metadata": {},
     "output_type": "execute_result"
    }
   ],
   "source": [
    "quad(1,4,5)"
   ]
  },
  {
   "cell_type": "code",
   "execution_count": 8,
   "id": "135b8706",
   "metadata": {},
   "outputs": [
    {
     "data": {
      "text/plain": [
       "(-11.0, 1.0)"
      ]
     },
     "execution_count": 8,
     "metadata": {},
     "output_type": "execute_result"
    }
   ],
   "source": [
    "quad(1,10,-11)"
   ]
  },
  {
   "cell_type": "code",
   "execution_count": 9,
   "id": "a24e52a3",
   "metadata": {},
   "outputs": [],
   "source": [
    "#5. Write a Python program to swap two variables without temp variable?\n",
    "def swap_wo_temp(a,b):\n",
    "    print('a: ', a, 'b: ', b)\n",
    "    a = a + b\n",
    "    b = a + b\n",
    "    a = b - a\n",
    "    b = b - 2*a\n",
    "    print('a: ', a, 'b: ', b)"
   ]
  },
  {
   "cell_type": "code",
   "execution_count": 10,
   "id": "4ff35055",
   "metadata": {},
   "outputs": [
    {
     "name": "stdout",
     "output_type": "stream",
     "text": [
      "a:  4 b:  5\n",
      "a:  5 b:  4\n"
     ]
    }
   ],
   "source": [
    "swap_wo_temp(4,5)"
   ]
  }
 ],
 "metadata": {
  "kernelspec": {
   "display_name": "Python 3 (ipykernel)",
   "language": "python",
   "name": "python3"
  },
  "language_info": {
   "codemirror_mode": {
    "name": "ipython",
    "version": 3
   },
   "file_extension": ".py",
   "mimetype": "text/x-python",
   "name": "python",
   "nbconvert_exporter": "python",
   "pygments_lexer": "ipython3",
   "version": "3.9.7"
  }
 },
 "nbformat": 4,
 "nbformat_minor": 5
}
