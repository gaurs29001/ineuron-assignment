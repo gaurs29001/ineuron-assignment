{
 "cells": [
  {
   "cell_type": "code",
   "execution_count": 1,
   "id": "0ecda2c3",
   "metadata": {},
   "outputs": [
    {
     "name": "stdout",
     "output_type": "stream",
     "text": [
      "28\n"
     ]
    }
   ],
   "source": [
    "#1. Write a Python Program to find sum of array?\n",
    "'''As there is nothing as such array in Python, the significance of array is\n",
    "equivalent to List(with same type of elements)'''\n",
    "array_num = [1,2,3,4,5,6,7]\n",
    "print(sum(array_num))"
   ]
  },
  {
   "cell_type": "code",
   "execution_count": 2,
   "id": "9bb91f24",
   "metadata": {},
   "outputs": [
    {
     "name": "stdout",
     "output_type": "stream",
     "text": [
      "103\n"
     ]
    }
   ],
   "source": [
    "#2. Write a Python Program to find largest element in an array?\n",
    "array_num = [101,20,34,1,5,89,103,10,33,90,100]\n",
    "max_num = array_num[0]\n",
    "for i in range(0, len(array_num)):\n",
    "    if max_num<array_num[i]:\n",
    "        max_num = array_num[i]\n",
    "print(max_num)"
   ]
  },
  {
   "cell_type": "code",
   "execution_count": 3,
   "id": "1ff197b7",
   "metadata": {},
   "outputs": [
    {
     "name": "stdout",
     "output_type": "stream",
     "text": [
      "[101, 20, 34, 1, 5, 89, 103, 10, 33, 90, 100]\n",
      "[100, 90, 33, 10, 103, 89, 5, 1, 34, 20, 101]\n"
     ]
    }
   ],
   "source": [
    "#3. Write a Python Program for array rotation?\n",
    "array_num = [101,20,34,1,5,89,103,10,33,90,100]\n",
    "count = 0\n",
    "for i in array_num:\n",
    "    count +=1\n",
    "rev_array = [None] * count\n",
    "for i in range(count-1,-1,-1):\n",
    "    rev_array[i] = array_num[count-i-1]\n",
    "print(array_num)\n",
    "print(rev_array)"
   ]
  },
  {
   "cell_type": "code",
   "execution_count": 4,
   "id": "e73e5a8a",
   "metadata": {},
   "outputs": [
    {
     "name": "stdout",
     "output_type": "stream",
     "text": [
      "Orginial: [1, 2, 3, 4, 5, 6, 7, 8, 9, 10]\n",
      "New: [6, 7, 8, 9, 10, 1, 2, 3, 4, 5]\n"
     ]
    }
   ],
   "source": [
    "#4. Write a Python Program to Split the array and add the first part to the end?\n",
    "array_num = [1,2,3,4,5,6,7,8,9,10]\n",
    "count = len(array_num)\n",
    "rslt_array = [None] * count\n",
    "if count%2==0:\n",
    "    split = int(count/2)\n",
    "else:\n",
    "    split = int(count/2)+1 # if # of elements is odd, first split will have one extra elements\n",
    "#extracting second half\n",
    "for i in range(split,count):\n",
    "    rslt_array[i-split] = array_num[i]\n",
    "#extracting first half\n",
    "for i in range(0,split):\n",
    "    if count%2==0:\n",
    "        rslt_array[split+i] = array_num[i]\n",
    "    else:\n",
    "        rslt_array[split+i-1] = array_num[i]\n",
    "print(f'Orginial: {array_num}')\n",
    "print(f'New: {rslt_array}')\n"
   ]
  },
  {
   "cell_type": "code",
   "execution_count": 5,
   "id": "f5f0bfe3",
   "metadata": {},
   "outputs": [],
   "source": [
    "#5. Write a Python Program to check if given array is Monotonic?\n",
    "def monotonic_array(in_lst):\n",
    "    rslt = True\n",
    "    count_1 , count_2 = 0,0\n",
    "    for i in range(0,len(in_lst)-1):\n",
    "        if in_lst[i] <= in_lst[i+1]:\n",
    "            count_1 += 1\n",
    "        else:\n",
    "            count_2 += 1\n",
    "    print(count_1, count_2)\n",
    "    if count_1 == len(in_lst)-1:\n",
    "        rslt = True\n",
    "    elif count_2 == len(in_lst)-1:\n",
    "        rslt = True\n",
    "    else:\n",
    "        rslt = False\n",
    "    return rslt"
   ]
  },
  {
   "cell_type": "code",
   "execution_count": 6,
   "id": "1c07b967",
   "metadata": {},
   "outputs": [
    {
     "name": "stdout",
     "output_type": "stream",
     "text": [
      "0 4\n"
     ]
    },
    {
     "data": {
      "text/plain": [
       "True"
      ]
     },
     "execution_count": 6,
     "metadata": {},
     "output_type": "execute_result"
    }
   ],
   "source": [
    "monotonic_array([5,4,3,2,1])"
   ]
  }
 ],
 "metadata": {
  "kernelspec": {
   "display_name": "Python 3 (ipykernel)",
   "language": "python",
   "name": "python3"
  },
  "language_info": {
   "codemirror_mode": {
    "name": "ipython",
    "version": 3
   },
   "file_extension": ".py",
   "mimetype": "text/x-python",
   "name": "python",
   "nbconvert_exporter": "python",
   "pygments_lexer": "ipython3",
   "version": "3.9.7"
  }
 },
 "nbformat": 4,
 "nbformat_minor": 5
}
