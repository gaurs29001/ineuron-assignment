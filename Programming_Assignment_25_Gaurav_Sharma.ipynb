{
 "cells": [
  {
   "cell_type": "code",
   "execution_count": 1,
   "id": "fa776dc6",
   "metadata": {},
   "outputs": [],
   "source": [
    "#Create a function that takes three integer arguments (a, b, c) and returns the amount of\n",
    "#integers which are of equal value.\"\"\"\n",
    "def equal(a, b, c):\n",
    "    counter = 0\n",
    "    if (a==b or b==c):\n",
    "        if (a==b and a==c):\n",
    "            counter = 3\n",
    "        else:\n",
    "            counter = 2\n",
    "    else:\n",
    "        counter = 0\n",
    "    return counter"
   ]
  },
  {
   "cell_type": "code",
   "execution_count": 2,
   "id": "9451b4bc",
   "metadata": {},
   "outputs": [
    {
     "data": {
      "text/plain": [
       "0"
      ]
     },
     "execution_count": 2,
     "metadata": {},
     "output_type": "execute_result"
    }
   ],
   "source": [
    "equal(3,-1,-3)"
   ]
  },
  {
   "cell_type": "code",
   "execution_count": 3,
   "id": "7b25fa1c",
   "metadata": {},
   "outputs": [],
   "source": [
    "#Write a function that converts a dictionary into a list of keys-values tuples.\n",
    "def dict_to_list(in_dict):\n",
    "    return list(in_dict.items())\n",
    "\n",
    "def my_items(in_dict):\n",
    "    keys = in_dict.keys()\n",
    "    out_list = []\n",
    "    for k in keys:\n",
    "        temp_tuple1 = (in_dict.get(k), )\n",
    "        temp_tuple2 = (k, )\n",
    "        out_list.append(temp_tuple2+temp_tuple1)\n",
    "    return out_list"
   ]
  },
  {
   "cell_type": "code",
   "execution_count": 4,
   "id": "b8fcf8c3",
   "metadata": {},
   "outputs": [
    {
     "data": {
      "text/plain": [
       "[('a', 1), ('b', 2), ('c', 3)]"
      ]
     },
     "execution_count": 4,
     "metadata": {},
     "output_type": "execute_result"
    }
   ],
   "source": [
    "dict_to_list({'a':1,'b':2,'c':3})"
   ]
  },
  {
   "cell_type": "code",
   "execution_count": 5,
   "id": "6559b163",
   "metadata": {},
   "outputs": [
    {
     "data": {
      "text/plain": [
       "[('a', 1), ('b', 2), ('c', 3)]"
      ]
     },
     "execution_count": 5,
     "metadata": {},
     "output_type": "execute_result"
    }
   ],
   "source": [
    "my_items({'a':1,'b':2,'c':3})"
   ]
  },
  {
   "cell_type": "code",
   "execution_count": 6,
   "id": "389f7b57",
   "metadata": {},
   "outputs": [],
   "source": [
    "#Write a function that creates a dictionary with each (key, value) pair being the (lower case,\n",
    "#upper case) versions of a letter, respectively.\n",
    "def mapping(in_list):\n",
    "    out_dict = {}\n",
    "    for item in in_list:\n",
    "        out_dict[item] = item.upper()\n",
    "    return out_dict"
   ]
  },
  {
   "cell_type": "code",
   "execution_count": 7,
   "id": "4906670c",
   "metadata": {},
   "outputs": [
    {
     "data": {
      "text/plain": [
       "{'p': 'P', 'q': 'Q', 'd': 'D'}"
      ]
     },
     "execution_count": 7,
     "metadata": {},
     "output_type": "execute_result"
    }
   ],
   "source": [
    "mapping(['p','q','d'])"
   ]
  },
  {
   "cell_type": "code",
   "execution_count": 8,
   "id": "6c096c3e",
   "metadata": {},
   "outputs": [],
   "source": [
    "#Write a function, that replaces all vowels in a string with a specified vowel.\n",
    "def vow_replace(in_str, rplc_with_vow):\n",
    "    out_str = ''\n",
    "    for i in in_str:\n",
    "        if i in ('a','A','e','E','i','I','o','O','u','U'):\n",
    "            out_str += rplc_with_vow\n",
    "        else:\n",
    "            out_str += i\n",
    "    return out_str"
   ]
  },
  {
   "cell_type": "code",
   "execution_count": 9,
   "id": "c67ea816",
   "metadata": {},
   "outputs": [
    {
     "data": {
      "text/plain": [
       "'upplus und bununus'"
      ]
     },
     "execution_count": 9,
     "metadata": {},
     "output_type": "execute_result"
    }
   ],
   "source": [
    "vow_replace(\"apples and bananas\", \"u\")"
   ]
  },
  {
   "cell_type": "code",
   "execution_count": 10,
   "id": "e7b37830",
   "metadata": {},
   "outputs": [],
   "source": [
    "#Create a function that takes a string as input and capitalizes a letter if its ASCII code is even\n",
    "#and returns its lower case version if its ASCII code is odd.\n",
    "def ascii_capitalize(in_str):\n",
    "    out_str = ''\n",
    "    for i in in_str:\n",
    "        if ord(i)%2 == 0:\n",
    "            out_str += i.upper()\n",
    "        else:\n",
    "            out_str += i\n",
    "    return out_str"
   ]
  },
  {
   "cell_type": "code",
   "execution_count": 11,
   "id": "5aa5b044",
   "metadata": {},
   "outputs": [
    {
     "data": {
      "text/plain": [
       "'To Be oR NoT To Be!'"
      ]
     },
     "execution_count": 11,
     "metadata": {},
     "output_type": "execute_result"
    }
   ],
   "source": [
    "ascii_capitalize(\"to be or not to be!\")"
   ]
  }
 ],
 "metadata": {
  "kernelspec": {
   "display_name": "Python 3 (ipykernel)",
   "language": "python",
   "name": "python3"
  },
  "language_info": {
   "codemirror_mode": {
    "name": "ipython",
    "version": 3
   },
   "file_extension": ".py",
   "mimetype": "text/x-python",
   "name": "python",
   "nbconvert_exporter": "python",
   "pygments_lexer": "ipython3",
   "version": "3.9.7"
  }
 },
 "nbformat": 4,
 "nbformat_minor": 5
}
