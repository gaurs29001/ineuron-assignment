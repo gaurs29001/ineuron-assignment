{
 "cells": [
  {
   "cell_type": "raw",
   "id": "1b288fbc",
   "metadata": {},
   "source": [
    "1. In the below elements which of them are values or an expression? eg:- values can be\n",
    "integer or string and expressions will be mathematical operators.\n",
    "*\n",
    "'hello'\n",
    "-87.8\n",
    "-\n",
    "/\n",
    "+\n",
    "6\n",
    "\n",
    "ANSWER:\n",
    "Values are : 'hello', -87.8, 6\n",
    "Expressions are: *, -, /, +"
   ]
  },
  {
   "cell_type": "raw",
   "id": "f016b069",
   "metadata": {},
   "source": [
    "2. What is the difference between string and variable?\n",
    "ANSWER: \n",
    "String is one of the builtin data type which stores sequence of unicode code values, comprising of alphanumeric\n",
    "values and other language specific characters like ä,ö,& etc. Its a iterratable data type. The first position of the string variable starts at 0. Strings are represented within single/ double/ triple quotes.\n",
    "Variable is reference name given to store the value of a data type. Variable names can start with _ or alphabets, followed with numbers and not whitespaces. The scope of variable can be global or local, depending upon the level of scope defined at function, class, package levels.\n",
    "Example: _abc = 'abc' #here _abc is the variable of type string, storing value abc.\n",
    "def = 123 #here def is the variable of type integer, storing value 123."
   ]
  },
  {
   "cell_type": "raw",
   "id": "6da6a720",
   "metadata": {},
   "source": [
    "3. Describe three different data types.\n",
    "ANSWER:\n",
    "1. Integer (int) - This data type stores numeric values without precision associated.\n",
    "This values can be negative or positive. ex: 123, -45\n",
    "2. Float (float) - This data type stores numeric values with precision associated. Ex: 123.45, -45.0\n",
    "3: Boolean (bool) - This data type stores two type of values True or False. True is by default represented as 1 \n",
    "and False as 0. Though True can be any integer value, only if it is type casted as bool. Ex: bool(-1) is True"
   ]
  },
  {
   "cell_type": "raw",
   "id": "05c09876",
   "metadata": {},
   "source": [
    "4. What is an expression made up of? What do all expressions do?\n",
    "ANSWER:\n",
    "Expression is evaluation of exceution of a similar type of data types using an operator eg: mathematical \n",
    "operators like + , -, *. Expressions performs the evaulation of execution of the types in questions. \n",
    "Ex: 'abc' + 'def' will concatenate the two str types to 'abcdef'. Also same operator will perform summation of \n",
    "two integer values. Expressions can be mathematical like paranthesis, comprehensions, etc."
   ]
  },
  {
   "cell_type": "raw",
   "id": "2da1a1c4",
   "metadata": {},
   "source": [
    "5. This assignment statements, like spam = 10. What is the difference between an\n",
    "expression and a statement?\n",
    "ANSWER:\n",
    "Here, this assignment statement is assigning a value to variable 'spam', without any evaulation of performing\n",
    "any operation before assignment. Whereas, if spam = 5+5, then 5+5 is treated as expression and value evaluated\n",
    "afterwards will be treated as assignment."
   ]
  },
  {
   "cell_type": "raw",
   "id": "6276ece7",
   "metadata": {},
   "source": [
    "6. After running the following code, what does the variable bacon contain?\n",
    "bacon = 22\n",
    "bacon + 1\n",
    "ANSWER:\n",
    "22"
   ]
  },
  {
   "cell_type": "raw",
   "id": "6d081e09",
   "metadata": {},
   "source": [
    "7. What should the values of the following two terms be?\n",
    "'spam' + 'spamspam'\n",
    "'spam' * 3\n",
    "ANSWER:\n",
    "Both will have values: spamspamspam"
   ]
  },
  {
   "cell_type": "raw",
   "id": "f7a6c9e6",
   "metadata": {},
   "source": [
    "8. Why is eggs a valid variable name while 100 is invalid?\n",
    "ANSWER:\n",
    "Variable names are permissible to start with _ or any alphabets, followed by any combination of alphabets, numbers.\n",
    "Hence, eggs is a valid variable while 100 is not."
   ]
  },
  {
   "cell_type": "raw",
   "id": "d653f194",
   "metadata": {},
   "source": [
    "9. What three functions can be used to get the integer, floating-point number, or string\n",
    "version of a value?\n",
    "ANSWER:\n",
    "int()\n",
    "float()\n",
    "str()"
   ]
  },
  {
   "cell_type": "raw",
   "id": "1237fa13",
   "metadata": {},
   "source": [
    "10. Why does this expression cause an error? How can you fix it?\n",
    "'I have eaten ' + 99 + ' burritos.'\n",
    "ANSWER:\n",
    "In this expression, we are concatenating strings with integer. Hence the expression is invaild.\n",
    "The fix is to type cast int to str.\n",
    "'I have eaten ' + str(99) + ' burritos.'"
   ]
  }
 ],
 "metadata": {
  "kernelspec": {
   "display_name": "Python 3 (ipykernel)",
   "language": "python",
   "name": "python3"
  },
  "language_info": {
   "codemirror_mode": {
    "name": "ipython",
    "version": 3
   },
   "file_extension": ".py",
   "mimetype": "text/x-python",
   "name": "python",
   "nbconvert_exporter": "python",
   "pygments_lexer": "ipython3",
   "version": "3.9.7"
  }
 },
 "nbformat": 4,
 "nbformat_minor": 5
}
