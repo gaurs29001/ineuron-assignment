{
 "cells": [
  {
   "cell_type": "markdown",
   "id": "07c1706f",
   "metadata": {},
   "source": [
    "Create a function that takes a number as an argument and returns True or False depending\n",
    "on whether the number is symmetrical or not. A number is symmetrical when it is the same as\n",
    "its reverse."
   ]
  },
  {
   "cell_type": "code",
   "execution_count": 1,
   "id": "5241e51e",
   "metadata": {},
   "outputs": [],
   "source": [
    "def is_symmetrical(in_num):\n",
    "    str_num = str(in_num)\n",
    "    if len(str_num)%2==0:\n",
    "        if str_num[:int(len(str_num)/2)]== str_num[len(str_num):int(len(str_num)/2)-1:-1]:\n",
    "            return True\n",
    "        else:\n",
    "            return False\n",
    "    else:\n",
    "        return False"
   ]
  },
  {
   "cell_type": "code",
   "execution_count": 2,
   "id": "f363abea",
   "metadata": {},
   "outputs": [
    {
     "data": {
      "text/plain": [
       "True"
      ]
     },
     "execution_count": 2,
     "metadata": {},
     "output_type": "execute_result"
    }
   ],
   "source": [
    "is_symmetrical(111111)"
   ]
  },
  {
   "cell_type": "markdown",
   "id": "2a0f45f0",
   "metadata": {},
   "source": [
    "Given a string of numbers separated by a comma and space, return the product of the\n",
    "numbers."
   ]
  },
  {
   "cell_type": "code",
   "execution_count": 3,
   "id": "f405b1f1",
   "metadata": {},
   "outputs": [],
   "source": [
    "def multiply_nums(in_str):\n",
    "    result = 1\n",
    "    for i in in_str.split(\", \"):\n",
    "        result *= int(i)\n",
    "    return result"
   ]
  },
  {
   "cell_type": "code",
   "execution_count": 4,
   "id": "46c6bce3",
   "metadata": {},
   "outputs": [
    {
     "data": {
      "text/plain": [
       "24"
      ]
     },
     "execution_count": 4,
     "metadata": {},
     "output_type": "execute_result"
    }
   ],
   "source": [
    "multiply_nums(\"1, 2, 3, 4\")"
   ]
  },
  {
   "cell_type": "markdown",
   "id": "c1c283fd",
   "metadata": {},
   "source": [
    "Create a function that squares every digit of a number."
   ]
  },
  {
   "cell_type": "code",
   "execution_count": 5,
   "id": "51d29d62",
   "metadata": {},
   "outputs": [],
   "source": [
    "def square_digits(in_num):\n",
    "    result = \"\"\n",
    "    for i in str(in_num):\n",
    "        result+=(str(int(i)**2))\n",
    "    return int(result)"
   ]
  },
  {
   "cell_type": "code",
   "execution_count": 6,
   "id": "98ad2ccd",
   "metadata": {},
   "outputs": [
    {
     "data": {
      "text/plain": [
       "416649"
      ]
     },
     "execution_count": 6,
     "metadata": {},
     "output_type": "execute_result"
    }
   ],
   "source": [
    "square_digits(2483)"
   ]
  },
  {
   "cell_type": "markdown",
   "id": "0166ed1e",
   "metadata": {},
   "source": [
    "Create a function that sorts a list and removes all duplicate items from it."
   ]
  },
  {
   "cell_type": "code",
   "execution_count": 7,
   "id": "a093388b",
   "metadata": {},
   "outputs": [],
   "source": [
    "def setify(in_list):\n",
    "    in_list.sort()\n",
    "    result = []\n",
    "    for i in in_list:\n",
    "        if i not in result:\n",
    "            result.append(i)\n",
    "    return result"
   ]
  },
  {
   "cell_type": "code",
   "execution_count": 8,
   "id": "2b740704",
   "metadata": {},
   "outputs": [
    {
     "data": {
      "text/plain": [
       "[4]"
      ]
     },
     "execution_count": 8,
     "metadata": {},
     "output_type": "execute_result"
    }
   ],
   "source": [
    "setify([4, 4, 4, 4])"
   ]
  },
  {
   "cell_type": "markdown",
   "id": "2efb026f",
   "metadata": {},
   "source": [
    "Create a function that returns the mean of all digits."
   ]
  },
  {
   "cell_type": "code",
   "execution_count": 9,
   "id": "f019090b",
   "metadata": {},
   "outputs": [],
   "source": [
    "def mean(in_num):\n",
    "    str_num = str(in_num)\n",
    "    count = 0\n",
    "    num_sum = 0\n",
    "    for i in str_num:\n",
    "        count += 1\n",
    "        num_sum += int(i)\n",
    "    return int(num_sum/count)"
   ]
  },
  {
   "cell_type": "code",
   "execution_count": 10,
   "id": "493a2284",
   "metadata": {},
   "outputs": [
    {
     "data": {
      "text/plain": [
       "6"
      ]
     },
     "execution_count": 10,
     "metadata": {},
     "output_type": "execute_result"
    }
   ],
   "source": [
    "mean(666)"
   ]
  }
 ],
 "metadata": {
  "kernelspec": {
   "display_name": "Python 3 (ipykernel)",
   "language": "python",
   "name": "python3"
  },
  "language_info": {
   "codemirror_mode": {
    "name": "ipython",
    "version": 3
   },
   "file_extension": ".py",
   "mimetype": "text/x-python",
   "name": "python",
   "nbconvert_exporter": "python",
   "pygments_lexer": "ipython3",
   "version": "3.9.7"
  }
 },
 "nbformat": 4,
 "nbformat_minor": 5
}
