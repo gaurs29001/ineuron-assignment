{
 "cells": [
  {
   "cell_type": "code",
   "execution_count": 1,
   "id": "0d8bcfb2",
   "metadata": {},
   "outputs": [],
   "source": [
    "#1. Write a Python Program to Find LCM?\n",
    "def gcd(a,b):\n",
    "    if a == 0:\n",
    "        return b\n",
    "    return gcd(b%a, a)\n",
    "\n",
    "def lcm(a,b):\n",
    "    return int((a*b)/ gcd(a,b))"
   ]
  },
  {
   "cell_type": "code",
   "execution_count": 2,
   "id": "55f4d130",
   "metadata": {},
   "outputs": [
    {
     "data": {
      "text/plain": [
       "60"
      ]
     },
     "execution_count": 2,
     "metadata": {},
     "output_type": "execute_result"
    }
   ],
   "source": [
    "lcm(15,20)"
   ]
  },
  {
   "cell_type": "code",
   "execution_count": 3,
   "id": "dbc698dc",
   "metadata": {},
   "outputs": [],
   "source": [
    "#2. Write a Python Program to Find HCF?\n",
    "def hcf(a,b):\n",
    "    if a>b:\n",
    "        while a%b != 0:\n",
    "            temp = b\n",
    "            b = a%b\n",
    "            a = temp\n",
    "        return b       \n",
    "    if b>a:\n",
    "        while b%a != 0:\n",
    "            temp = a\n",
    "            a = b%a\n",
    "            b = temp\n",
    "        return a    "
   ]
  },
  {
   "cell_type": "code",
   "execution_count": 4,
   "id": "e6591d96",
   "metadata": {},
   "outputs": [
    {
     "data": {
      "text/plain": [
       "24"
      ]
     },
     "execution_count": 4,
     "metadata": {},
     "output_type": "execute_result"
    }
   ],
   "source": [
    "hcf(120,72)"
   ]
  },
  {
   "cell_type": "code",
   "execution_count": 5,
   "id": "ddad4e17",
   "metadata": {},
   "outputs": [
    {
     "name": "stdout",
     "output_type": "stream",
     "text": [
      "Enter the number: 501\n",
      "Enter the number format(2 for Binary, 8 for Octa, 16 for hexadecimal): 16\n",
      "1F5\n"
     ]
    }
   ],
   "source": [
    "#3. Write a Python Program to Convert Decimal to Binary, Octal and Hexadecimal?\n",
    "num = int(input('Enter the number: '))\n",
    "in_frmt = int(input('Enter the number format(2 for Binary, 8 for Octa, 16 for hexadecimal): '))\n",
    "def number_format(in_format,in_num):\n",
    "    counter = 0\n",
    "    hex_dct = {1:1, 2:2, 3:3, 4:4, 5:5, 6:6, 7:7, 8:8, 9:9, 10:'A', 11:'B', 12:'C', 13:'D', 14:'E', 15:'F'}\n",
    "    while(in_num-pow(in_format,counter)>1):\n",
    "        counter +=1\n",
    "    i = counter - 1\n",
    "    rslt=[]\n",
    "    while i >= 0:\n",
    "        if in_format == 16:\n",
    "            rslt.append(hex_dct[in_num%in_format])\n",
    "        else:\n",
    "            rslt.append(in_num%in_format)\n",
    "        in_num = int(in_num/in_format)\n",
    "        i-=1\n",
    "    rslt.reverse()    \n",
    "    rslt_format=''\n",
    "    for i in rslt:\n",
    "        rslt_format +=str(i)\n",
    "    return rslt_format\n",
    "print(number_format(in_frmt, num))   "
   ]
  },
  {
   "cell_type": "code",
   "execution_count": 6,
   "id": "a346c678",
   "metadata": {},
   "outputs": [
    {
     "name": "stdout",
     "output_type": "stream",
     "text": [
      "'\\xfc'\n"
     ]
    }
   ],
   "source": [
    "#4. Write a Python Program To Find ASCII value of a character?\n",
    "print(ascii('ü'))"
   ]
  },
  {
   "cell_type": "code",
   "execution_count": 7,
   "id": "7111203d",
   "metadata": {},
   "outputs": [],
   "source": [
    "#5. Write a Python Program to Make a Simple Calculator with 4 basic mathematical operations?\n",
    "\n",
    "def calc():\n",
    "    \"Enter two numbers for mathematical operations\"\n",
    "    while True:\n",
    "        choice1 = input('Choose operations: +, -, *, / or E for exit: ')\n",
    "        if choice1 == 'E' or choice1 == 'e':\n",
    "            print('Bye')\n",
    "            break\n",
    "        elif choice1 not in ('+', '-', '*', '/', 'E', 'e'):\n",
    "            print('Wrong Choice, please try again!!!')\n",
    "        else:\n",
    "            num1 = int(input('Enter first number: '))\n",
    "            num2 = int(input('Enter second number: '))\n",
    "            if choice1 == '+':\n",
    "                print(num1+num2)\n",
    "            if choice1 == '-':\n",
    "                print(num1-num2)\n",
    "            if choice1 == '*':\n",
    "                print(num1*num2)\n",
    "            if choice1 == '/':\n",
    "                print(num1/num2)"
   ]
  },
  {
   "cell_type": "code",
   "execution_count": 8,
   "id": "c21b451a",
   "metadata": {},
   "outputs": [
    {
     "name": "stdout",
     "output_type": "stream",
     "text": [
      "Choose operations: +, -, *, / or E for exit: 2\n",
      "Wrong Choice, please try again!!!\n",
      "Choose operations: +, -, *, / or E for exit: /\n",
      "Enter first number: 34\n",
      "Enter second number: 3\n",
      "11.333333333333334\n",
      "Choose operations: +, -, *, / or E for exit: E\n",
      "Bye\n"
     ]
    }
   ],
   "source": [
    "calc()"
   ]
  }
 ],
 "metadata": {
  "kernelspec": {
   "display_name": "Python 3 (ipykernel)",
   "language": "python",
   "name": "python3"
  },
  "language_info": {
   "codemirror_mode": {
    "name": "ipython",
    "version": 3
   },
   "file_extension": ".py",
   "mimetype": "text/x-python",
   "name": "python",
   "nbconvert_exporter": "python",
   "pygments_lexer": "ipython3",
   "version": "3.9.7"
  }
 },
 "nbformat": 4,
 "nbformat_minor": 5
}
