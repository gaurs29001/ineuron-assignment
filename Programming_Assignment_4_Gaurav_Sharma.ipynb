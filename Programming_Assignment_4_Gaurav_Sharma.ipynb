{
 "cells": [
  {
   "cell_type": "code",
   "execution_count": 1,
   "id": "b6170e04",
   "metadata": {},
   "outputs": [],
   "source": [
    "#1. Write a Python Program to Find the Factorial of a Number?\n",
    "def fact(in_num):\n",
    "    result = 1\n",
    "    n = in_num\n",
    "    if n == 0 or n == 1:\n",
    "        result = 1\n",
    "    else:\n",
    "        while n != 1:\n",
    "            result = result * n\n",
    "            #print(result, n)\n",
    "            n -= 1\n",
    "    print(f'Factorial of {in_num} is {result}')"
   ]
  },
  {
   "cell_type": "code",
   "execution_count": 2,
   "id": "9d703588",
   "metadata": {},
   "outputs": [
    {
     "name": "stdout",
     "output_type": "stream",
     "text": [
      "Factorial of 10 is 3628800\n"
     ]
    }
   ],
   "source": [
    "fact(10)"
   ]
  },
  {
   "cell_type": "code",
   "execution_count": 3,
   "id": "12f1abb3",
   "metadata": {},
   "outputs": [],
   "source": [
    "#2. Write a Python Program to Display the multiplication Table?\n",
    "def table(in_num, end_limit):\n",
    "    i=1\n",
    "    while i<= end_limit:\n",
    "        print(f'{in_num} X {i} = {in_num * i}')\n",
    "        i +=1"
   ]
  },
  {
   "cell_type": "code",
   "execution_count": 4,
   "id": "4e589148",
   "metadata": {},
   "outputs": [
    {
     "name": "stdout",
     "output_type": "stream",
     "text": [
      "2 X 1 = 2\n",
      "2 X 2 = 4\n",
      "2 X 3 = 6\n",
      "2 X 4 = 8\n",
      "2 X 5 = 10\n",
      "2 X 6 = 12\n",
      "2 X 7 = 14\n",
      "2 X 8 = 16\n",
      "2 X 9 = 18\n",
      "2 X 10 = 20\n"
     ]
    }
   ],
   "source": [
    "table(2,10)"
   ]
  },
  {
   "cell_type": "code",
   "execution_count": 5,
   "id": "53539426",
   "metadata": {},
   "outputs": [],
   "source": [
    "#3. Write a Python Program to Print the Fibonacci sequence?\n",
    "def fab(seq):\n",
    "    f1 = 0\n",
    "    f2 = 1\n",
    "    count = 0\n",
    "    temp = 0\n",
    "    while count<seq:\n",
    "        count += 1\n",
    "        if count == 1:\n",
    "            print(f1, end=' ')\n",
    "        if count == 2:\n",
    "            print(f2, end = ' ')\n",
    "        if count >=3:\n",
    "            temp = f2 + f1\n",
    "            f1 = f2\n",
    "            f2 = temp\n",
    "            print(f2, end = ' ')"
   ]
  },
  {
   "cell_type": "code",
   "execution_count": 6,
   "id": "1f34c109",
   "metadata": {},
   "outputs": [
    {
     "name": "stdout",
     "output_type": "stream",
     "text": [
      "0 1 1 2 3 5 8 13 21 34 "
     ]
    }
   ],
   "source": [
    "fab(10)"
   ]
  },
  {
   "cell_type": "code",
   "execution_count": 7,
   "id": "c3117f0c",
   "metadata": {},
   "outputs": [],
   "source": [
    "#4. Write a Python Program to Check Armstrong Number?\n",
    "def check_armstrong(in_num):\n",
    "    if type(in_num) == int:\n",
    "        places = len(str(in_num))\n",
    "        counter = places\n",
    "        armstrng = 0\n",
    "        num = in_num\n",
    "        while counter >=1:\n",
    "            armstrng += pow(int(num/(pow(10,counter-1))),places)\n",
    "            num %= pow(10,counter-1)\n",
    "            counter -=1\n",
    "        if in_num == armstrng:\n",
    "            print(f'{in_num} is an armstrong number')\n",
    "        else:\n",
    "            print(f'{in_num} is not an armstrong number')"
   ]
  },
  {
   "cell_type": "code",
   "execution_count": 8,
   "id": "6d6a858c",
   "metadata": {},
   "outputs": [
    {
     "name": "stdout",
     "output_type": "stream",
     "text": [
      "153 is an armstrong number\n"
     ]
    }
   ],
   "source": [
    "check_armstrong(153)"
   ]
  },
  {
   "cell_type": "code",
   "execution_count": 9,
   "id": "6c646628",
   "metadata": {},
   "outputs": [],
   "source": [
    "#5. Write a Python Program to Find Armstrong Number in an Interval?\n",
    "def armstrong(strt, end):\n",
    "    for i in range(strt, end+1):\n",
    "        in_num = i\n",
    "        if type(in_num) == int:\n",
    "            places = len(str(in_num))\n",
    "            counter = places\n",
    "            armstrng = 0\n",
    "            num = in_num\n",
    "            while counter >=1:\n",
    "                armstrng += pow(int(num/(pow(10,counter-1))),places)\n",
    "                num %= pow(10,counter-1)\n",
    "                counter -=1\n",
    "            if in_num == armstrng:\n",
    "                print(in_num, end=' ')"
   ]
  },
  {
   "cell_type": "code",
   "execution_count": 10,
   "id": "6b9eb6fa",
   "metadata": {},
   "outputs": [
    {
     "name": "stdout",
     "output_type": "stream",
     "text": [
      "1 2 3 4 5 6 7 8 9 153 370 371 407 1634 8208 9474 54748 92727 93084 "
     ]
    }
   ],
   "source": [
    "armstrong(1,100000)"
   ]
  },
  {
   "cell_type": "code",
   "execution_count": 11,
   "id": "297866d0",
   "metadata": {},
   "outputs": [],
   "source": [
    "#6. Write a Python Program to Find the Sum of Natural Numbers?\n",
    "def sum_natural_num(end):\n",
    "    s, i = 0, 0\n",
    "    for i in range(1,end+1):\n",
    "        s += i\n",
    "    print(f'Sum of natural numbers till {end} is {s}')"
   ]
  },
  {
   "cell_type": "code",
   "execution_count": 12,
   "id": "22b80ae9",
   "metadata": {},
   "outputs": [
    {
     "name": "stdout",
     "output_type": "stream",
     "text": [
      "Sum of natural numbers till 100 is 5050\n"
     ]
    }
   ],
   "source": [
    "sum_natural_num(100)"
   ]
  }
 ],
 "metadata": {
  "kernelspec": {
   "display_name": "Python 3 (ipykernel)",
   "language": "python",
   "name": "python3"
  },
  "language_info": {
   "codemirror_mode": {
    "name": "ipython",
    "version": 3
   },
   "file_extension": ".py",
   "mimetype": "text/x-python",
   "name": "python",
   "nbconvert_exporter": "python",
   "pygments_lexer": "ipython3",
   "version": "3.9.7"
  }
 },
 "nbformat": 4,
 "nbformat_minor": 5
}
