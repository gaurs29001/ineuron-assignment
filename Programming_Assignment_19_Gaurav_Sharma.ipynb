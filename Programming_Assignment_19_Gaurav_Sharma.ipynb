{
 "cells": [
  {
   "cell_type": "markdown",
   "id": "03d5f6e0",
   "metadata": {},
   "source": [
    "Create a function that takes a string and returns a string in which each character is repeated\n",
    "once."
   ]
  },
  {
   "cell_type": "code",
   "execution_count": 1,
   "id": "d6f3e9bb",
   "metadata": {},
   "outputs": [],
   "source": [
    "def double_char(in_str):\n",
    "    out_str = \"\"\n",
    "    for i in in_str:\n",
    "        out_str += i*2\n",
    "    return out_str"
   ]
  },
  {
   "cell_type": "code",
   "execution_count": 2,
   "id": "e59cb881",
   "metadata": {},
   "outputs": [
    {
     "data": {
      "text/plain": [
       "'HHeelllloo  WWoorrlldd!!'"
      ]
     },
     "execution_count": 2,
     "metadata": {},
     "output_type": "execute_result"
    }
   ],
   "source": [
    "double_char(\"Hello World!\")"
   ]
  },
  {
   "cell_type": "markdown",
   "id": "3f3f017d",
   "metadata": {},
   "source": [
    "Create a function that reverses a boolean value and returns the string &quot;boolean expected&quot;\n",
    "if another variable type is given."
   ]
  },
  {
   "cell_type": "code",
   "execution_count": 3,
   "id": "5a186a45",
   "metadata": {},
   "outputs": [],
   "source": [
    "def reverse(in_bol):\n",
    "    if type(in_bol) == bool:\n",
    "        return not in_bol\n",
    "    else:\n",
    "        return \"boolean expected\""
   ]
  },
  {
   "cell_type": "code",
   "execution_count": 4,
   "id": "6e44e7a5",
   "metadata": {},
   "outputs": [
    {
     "data": {
      "text/plain": [
       "'boolean expected'"
      ]
     },
     "execution_count": 4,
     "metadata": {},
     "output_type": "execute_result"
    }
   ],
   "source": [
    "reverse(0)"
   ]
  },
  {
   "cell_type": "markdown",
   "id": "15e8c591",
   "metadata": {},
   "source": [
    "Create a function that returns the thickness (in meters) of a piece of paper after folding it n\n",
    "number of times. The paper starts off with a thickness of 0.5mm."
   ]
  },
  {
   "cell_type": "code",
   "execution_count": 5,
   "id": "4d11fda3",
   "metadata": {},
   "outputs": [],
   "source": [
    "def num_layers(in_folds):\n",
    "    final = 0.5\n",
    "    for i in range(in_folds+1):\n",
    "        if i == 0:\n",
    "            final = 0.5\n",
    "        else:\n",
    "            final = final*2\n",
    "    return str(final/1000) + 'm'"
   ]
  },
  {
   "cell_type": "code",
   "execution_count": 6,
   "id": "98c0f861",
   "metadata": {},
   "outputs": [
    {
     "data": {
      "text/plain": [
       "'1048.576m'"
      ]
     },
     "execution_count": 6,
     "metadata": {},
     "output_type": "execute_result"
    }
   ],
   "source": [
    "num_layers(21)"
   ]
  },
  {
   "cell_type": "markdown",
   "id": "f3e4345d",
   "metadata": {},
   "source": [
    "Create a function that takes a single string as argument and returns an ordered list containing\n",
    "the indices of all capital letters in the string."
   ]
  },
  {
   "cell_type": "code",
   "execution_count": 7,
   "id": "857681bc",
   "metadata": {},
   "outputs": [],
   "source": [
    "def index_of_caps(in_str):\n",
    "    result = []\n",
    "    count = 0\n",
    "    for i in in_str:\n",
    "        if i.isupper():\n",
    "            result.append(count)\n",
    "        count +=1\n",
    "    return result"
   ]
  },
  {
   "cell_type": "code",
   "execution_count": 8,
   "id": "daf38251",
   "metadata": {},
   "outputs": [
    {
     "data": {
      "text/plain": [
       "[0, 2]"
      ]
     },
     "execution_count": 8,
     "metadata": {},
     "output_type": "execute_result"
    }
   ],
   "source": [
    "index_of_caps(\"SuN\")"
   ]
  },
  {
   "cell_type": "markdown",
   "id": "868192d8",
   "metadata": {},
   "source": [
    "Using list comprehensions, create a function that finds all even numbers from 1 to the given\n",
    "number."
   ]
  },
  {
   "cell_type": "code",
   "execution_count": 9,
   "id": "0ec31412",
   "metadata": {},
   "outputs": [],
   "source": [
    "def find_even_nums(in_num):\n",
    "    return [ i for i in range(1,in_num+1) if i%2 == 0 ]"
   ]
  },
  {
   "cell_type": "code",
   "execution_count": 10,
   "id": "1372dafa",
   "metadata": {},
   "outputs": [
    {
     "data": {
      "text/plain": [
       "[2]"
      ]
     },
     "execution_count": 10,
     "metadata": {},
     "output_type": "execute_result"
    }
   ],
   "source": [
    "find_even_nums(2)"
   ]
  }
 ],
 "metadata": {
  "kernelspec": {
   "display_name": "Python 3 (ipykernel)",
   "language": "python",
   "name": "python3"
  },
  "language_info": {
   "codemirror_mode": {
    "name": "ipython",
    "version": 3
   },
   "file_extension": ".py",
   "mimetype": "text/x-python",
   "name": "python",
   "nbconvert_exporter": "python",
   "pygments_lexer": "ipython3",
   "version": "3.9.7"
  }
 },
 "nbformat": 4,
 "nbformat_minor": 5
}
