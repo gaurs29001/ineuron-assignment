{
 "cells": [
  {
   "cell_type": "code",
   "execution_count": 1,
   "id": "9d7fb664",
   "metadata": {},
   "outputs": [
    {
     "name": "stdout",
     "output_type": "stream",
     "text": [
      "Enter the sequence: 10\n",
      "0 1 1 2 3 5 8 13 21 34 \n"
     ]
    }
   ],
   "source": [
    "#1. Write a Python Program to Display Fibonacci Sequence Using Recursion?\n",
    "def fib_rec(n):\n",
    "    if n==0 :\n",
    "        return 0\n",
    "    elif n==1 or n==2:\n",
    "        return 1\n",
    "    else:\n",
    "        return fib_rec(n-1) + fib_rec(n-2)\n",
    "\n",
    "seq = int(input('Enter the sequence: '))\n",
    "result= ''\n",
    "for i in range(0,seq):\n",
    "    result += str(fib_rec(i))+' '\n",
    "print(result)"
   ]
  },
  {
   "cell_type": "code",
   "execution_count": 2,
   "id": "ccec20d8",
   "metadata": {},
   "outputs": [
    {
     "name": "stdout",
     "output_type": "stream",
     "text": [
      "Enter the number: 10\n",
      "Factorial of 10 is: 3628800\n"
     ]
    }
   ],
   "source": [
    "#2. Write a Python Program to Find Factorial of Number Using Recursion?\n",
    "def fact_rec(n):\n",
    "    if n == 1 or n == 0:\n",
    "        return 1\n",
    "    else:\n",
    "        return n*fact_rec(n-1)\n",
    "num = int(input('Enter the number: '))\n",
    "print(f'Factorial of {num} is: {fact_rec(num)}')"
   ]
  },
  {
   "cell_type": "code",
   "execution_count": 3,
   "id": "585eaabb",
   "metadata": {},
   "outputs": [
    {
     "name": "stdout",
     "output_type": "stream",
     "text": [
      "Enter your choice: 1. Kgs & Cms 2. Pounds & Inches or E for exit: 1\n",
      "Enter the weight in Kgs: 75\n",
      "Enter the height in Cms: 170\n",
      "Your BMI is : 26.0\n",
      "Enter your choice: 1. Kgs & Cms 2. Pounds & Inches or E for exit: 2\n",
      "Enter the weight in Lbs: 200\n",
      "Enter feets and inches separately for height\n",
      "Enter the actual feets for height: 5\n",
      "Enter the actual inches for height: 7\n",
      "Your BMI is : 31.0\n",
      "Enter your choice: 1. Kgs & Cms 2. Pounds & Inches or E for exit: e\n",
      "Thanks!!!\n"
     ]
    }
   ],
   "source": [
    "#3. Write a Python Program to calculate your Body Mass Index?\n",
    "\n",
    "while True:\n",
    "    choice = input('Enter your choice: 1. Kgs & Cms 2. Pounds & Inches or E for exit: ')\n",
    "    if choice == '1':\n",
    "        weight = float(input('Enter the weight in Kgs: '))\n",
    "        height = float(input('Enter the height in Cms: '))\n",
    "        print(f'Your BMI is : {round(weight / pow(height/100, 2),0)}')\n",
    "    elif choice == '2':\n",
    "        weight = float(input('Enter the weight in Lbs: '))\n",
    "        print('Enter feets and inches separately for height')\n",
    "        height_ft = float(input('Enter the actual feets for height: '))\n",
    "        height_in = float(input('Enter the actual inches for height: '))\n",
    "        print(f'Your BMI is : {round((weight / pow(height_ft*12 + height_in, 2))*703,0)}')\n",
    "    elif choice.upper() == 'E':\n",
    "        print('Thanks!!!')\n",
    "        break\n",
    "    else:\n",
    "        print('Please enter correct choice!!')"
   ]
  },
  {
   "cell_type": "code",
   "execution_count": 4,
   "id": "9086ab89",
   "metadata": {},
   "outputs": [
    {
     "name": "stdout",
     "output_type": "stream",
     "text": [
      "Enter a number: 2.7138\n",
      "Natural logarithm of 2.7138 is: 0.9983498667297154\n"
     ]
    }
   ],
   "source": [
    "#4. Write a Python Program to calculate the natural logarithm of any number?\n",
    "import math\n",
    "num = float(input('Enter a number: '))\n",
    "print(f'Natural logarithm of {num} is: {math.log(num)}')"
   ]
  },
  {
   "cell_type": "code",
   "execution_count": 5,
   "id": "acbe8746",
   "metadata": {},
   "outputs": [
    {
     "name": "stdout",
     "output_type": "stream",
     "text": [
      "Enter the natural number range: 10\n",
      "Cube sum of first 10 natural numbers is: 3025\n"
     ]
    }
   ],
   "source": [
    "#5. Write a Python Program for cube sum of first n natural numbers?\n",
    "num = int(input('Enter the natural number range: '))\n",
    "sum = 0\n",
    "for i in range(num+1):\n",
    "    sum += i*i*i\n",
    "print(f'Cube sum of first {num} natural numbers is: {sum}')"
   ]
  }
 ],
 "metadata": {
  "kernelspec": {
   "display_name": "Python 3 (ipykernel)",
   "language": "python",
   "name": "python3"
  },
  "language_info": {
   "codemirror_mode": {
    "name": "ipython",
    "version": 3
   },
   "file_extension": ".py",
   "mimetype": "text/x-python",
   "name": "python",
   "nbconvert_exporter": "python",
   "pygments_lexer": "ipython3",
   "version": "3.9.7"
  }
 },
 "nbformat": 4,
 "nbformat_minor": 5
}
