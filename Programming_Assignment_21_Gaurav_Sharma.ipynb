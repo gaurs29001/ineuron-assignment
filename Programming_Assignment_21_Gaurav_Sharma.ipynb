{
 "cells": [
  {
   "cell_type": "markdown",
   "id": "f60de527",
   "metadata": {},
   "source": [
    "Write a function that takes a list and a number as arguments. Add the number to the end of\n",
    "the list, then remove the first element of the list. The function should then return the updated\n",
    "list."
   ]
  },
  {
   "cell_type": "code",
   "execution_count": 1,
   "id": "1d2920ec",
   "metadata": {},
   "outputs": [],
   "source": [
    "def next_in_line(in_ls, num):\n",
    "    if len(in_ls) == 0:\n",
    "        return \"No list has been selected\"\n",
    "    else:\n",
    "        in_ls.pop(0)\n",
    "        in_ls.append(num)\n",
    "        return in_ls"
   ]
  },
  {
   "cell_type": "code",
   "execution_count": 2,
   "id": "dbe9ab06",
   "metadata": {},
   "outputs": [
    {
     "data": {
      "text/plain": [
       "'No list has been selected'"
      ]
     },
     "execution_count": 2,
     "metadata": {},
     "output_type": "execute_result"
    }
   ],
   "source": [
    "next_in_line([], 6)"
   ]
  },
  {
   "cell_type": "markdown",
   "id": "149be3a2",
   "metadata": {},
   "source": [
    "Create the function that takes a list of dictionaries and returns the sum of people&#39;s budgets."
   ]
  },
  {
   "cell_type": "code",
   "execution_count": 3,
   "id": "b233a4fb",
   "metadata": {},
   "outputs": [],
   "source": [
    "def get_budgets(in_ls):\n",
    "    result = 0\n",
    "    for i in in_ls:\n",
    "        result += i[\"budget\"]\n",
    "    return result"
   ]
  },
  {
   "cell_type": "code",
   "execution_count": 4,
   "id": "82e3a521",
   "metadata": {},
   "outputs": [
    {
     "data": {
      "text/plain": [
       "62600"
      ]
     },
     "execution_count": 4,
     "metadata": {},
     "output_type": "execute_result"
    }
   ],
   "source": [
    "get_budgets([\n",
    "{ \"name\": \"John\", \"age\": 21, \"budget\": 29000 },\n",
    "{ \"name\": \"Steve\", \"age\": 32, \"budget\": 32000 },\n",
    "{ \"name\": \"Martin\", \"age\": 16, \"budget\": 1600 }\n",
    "])"
   ]
  },
  {
   "cell_type": "markdown",
   "id": "1c5f76f2",
   "metadata": {},
   "source": [
    "Create a function that takes a string and returns a string with its letters in alphabetical order."
   ]
  },
  {
   "cell_type": "code",
   "execution_count": 5,
   "id": "88cc95be",
   "metadata": {},
   "outputs": [],
   "source": [
    "def alphabet_soup(in_str):\n",
    "    temp = list(in_str)\n",
    "    temp.sort()\n",
    "    out_str = \"\"\n",
    "    for i in temp:\n",
    "        out_str +=i\n",
    "    return(out_str)"
   ]
  },
  {
   "cell_type": "code",
   "execution_count": 6,
   "id": "af90db53",
   "metadata": {},
   "outputs": [
    {
     "data": {
      "text/plain": [
       "'acehkr'"
      ]
     },
     "execution_count": 6,
     "metadata": {},
     "output_type": "execute_result"
    }
   ],
   "source": [
    "alphabet_soup(\"hacker\")"
   ]
  },
  {
   "cell_type": "markdown",
   "id": "7f7411d0",
   "metadata": {},
   "source": [
    "Suppose that you invest $10,000 for 10 years at an interest rate of 6% compounded monthly.\n",
    "What will be the value of your investment at the end of the 10 year period?\n",
    "Create a function that accepts the principal p, the term in years t, the interest rate r, and the\n",
    "number of compounding periods per year n. The function returns the value at the end of term\n",
    "rounded to the nearest cent."
   ]
  },
  {
   "cell_type": "code",
   "execution_count": 7,
   "id": "87b52524",
   "metadata": {},
   "outputs": [],
   "source": [
    "def compound_interest(principal, time, interest, period):\n",
    "    return round(principal * (( 1 + interest/period) ** (period*time)),2)"
   ]
  },
  {
   "cell_type": "code",
   "execution_count": 8,
   "id": "7dae5f96",
   "metadata": {},
   "outputs": [
    {
     "data": {
      "text/plain": [
       "2007316.26"
      ]
     },
     "execution_count": 8,
     "metadata": {},
     "output_type": "execute_result"
    }
   ],
   "source": [
    "compound_interest(100000, 20, 0.15, 365)"
   ]
  },
  {
   "cell_type": "markdown",
   "id": "04bb22ab",
   "metadata": {},
   "source": [
    "Write a function that takes a list of elements and returns only the integers."
   ]
  },
  {
   "cell_type": "code",
   "execution_count": 9,
   "id": "6042cdf3",
   "metadata": {},
   "outputs": [],
   "source": [
    "def return_only_integer(in_ls):\n",
    "    result = []\n",
    "    for i in in_ls:\n",
    "        if type(i) == int:\n",
    "            result.append(i)\n",
    "    return result"
   ]
  },
  {
   "cell_type": "code",
   "execution_count": 10,
   "id": "78064194",
   "metadata": {},
   "outputs": [
    {
     "data": {
      "text/plain": [
       "[1]"
      ]
     },
     "execution_count": 10,
     "metadata": {},
     "output_type": "execute_result"
    }
   ],
   "source": [
    "return_only_integer([\"String\", True, 3.3, 1])"
   ]
  }
 ],
 "metadata": {
  "kernelspec": {
   "display_name": "Python 3 (ipykernel)",
   "language": "python",
   "name": "python3"
  },
  "language_info": {
   "codemirror_mode": {
    "name": "ipython",
    "version": 3
   },
   "file_extension": ".py",
   "mimetype": "text/x-python",
   "name": "python",
   "nbconvert_exporter": "python",
   "pygments_lexer": "ipython3",
   "version": "3.9.7"
  }
 },
 "nbformat": 4,
 "nbformat_minor": 5
}
