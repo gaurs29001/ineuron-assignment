{
 "cells": [
  {
   "cell_type": "markdown",
   "id": "bc624620",
   "metadata": {},
   "source": [
    "Create a function that takes an integer and returns a list from 1 to the given number, where:\n",
    "1. If the number can be divided evenly by 4, amplify it by 10 (i.e. return 10 times the\n",
    "number).\n",
    "2. If the number cannot be divided evenly by 4, simply return the number."
   ]
  },
  {
   "cell_type": "code",
   "execution_count": 1,
   "id": "cc6e7d78",
   "metadata": {},
   "outputs": [],
   "source": [
    "def amplify_normal(in_num):\n",
    "    out_list = []\n",
    "    for i in range(1,in_num+1):\n",
    "        if i%4 == 0:\n",
    "            out_list.append(i*10)\n",
    "        else:\n",
    "            out_list.append(i)\n",
    "    return out_list"
   ]
  },
  {
   "cell_type": "code",
   "execution_count": 2,
   "id": "99ca60af",
   "metadata": {},
   "outputs": [
    {
     "data": {
      "text/plain": [
       "[1, 2, 3, 40, 5, 6, 7, 80, 9, 10]"
      ]
     },
     "execution_count": 2,
     "metadata": {},
     "output_type": "execute_result"
    }
   ],
   "source": [
    "amplify_normal(10)"
   ]
  },
  {
   "cell_type": "code",
   "execution_count": 3,
   "id": "f501728d",
   "metadata": {},
   "outputs": [],
   "source": [
    "#list comprehension\n",
    "def amplify(num):\n",
    "    return ([i*10 if i%4 == 0 else i for i in range(1,num+1)])"
   ]
  },
  {
   "cell_type": "code",
   "execution_count": 4,
   "id": "8c9ddc01",
   "metadata": {},
   "outputs": [
    {
     "data": {
      "text/plain": [
       "[1, 2, 3, 40, 5, 6, 7, 80, 9, 10]"
      ]
     },
     "execution_count": 4,
     "metadata": {},
     "output_type": "execute_result"
    }
   ],
   "source": [
    "amplify(10)"
   ]
  },
  {
   "cell_type": "markdown",
   "id": "31628dfb",
   "metadata": {},
   "source": [
    "Create a function that takes a list of numbers and return the number that&#39;s unique."
   ]
  },
  {
   "cell_type": "code",
   "execution_count": 5,
   "id": "8c8cf005",
   "metadata": {},
   "outputs": [],
   "source": [
    "def unique(in_list):\n",
    "    for i in in_list:\n",
    "        if in_list.count(i)==1:\n",
    "            return i"
   ]
  },
  {
   "cell_type": "code",
   "execution_count": 6,
   "id": "f376cf81",
   "metadata": {},
   "outputs": [
    {
     "data": {
      "text/plain": [
       "0"
      ]
     },
     "execution_count": 6,
     "metadata": {},
     "output_type": "execute_result"
    }
   ],
   "source": [
    "unique([1,1,0, 1, 1, 1, 1, 1, 1, 1])"
   ]
  },
  {
   "cell_type": "markdown",
   "id": "4aa7d0f9",
   "metadata": {},
   "source": [
    "Your task is to create a Circle constructor that creates a circle with a radius provided by an\n",
    "argument. The circles constructed must have two getters getArea() (PIr^2) and\n",
    "getPerimeter() (2PI*r) which give both respective areas and perimeter (circumference)."
   ]
  },
  {
   "cell_type": "code",
   "execution_count": 7,
   "id": "7e5ae4df",
   "metadata": {},
   "outputs": [
    {
     "data": {
      "text/plain": [
       "380"
      ]
     },
     "execution_count": 7,
     "metadata": {},
     "output_type": "execute_result"
    }
   ],
   "source": [
    "import math\n",
    "class Circle():\n",
    "    def __init__(self, radius):\n",
    "        self.radius = radius\n",
    "    def getArea(self):\n",
    "        return round(math.pi*(self.radius**2))\n",
    "    def getPerimeter(self):\n",
    "        return round(2*math.pi*self.radius)\n",
    "circy = Circle(11)\n",
    "circy.getArea()"
   ]
  },
  {
   "cell_type": "code",
   "execution_count": 8,
   "id": "59ddd3c8",
   "metadata": {},
   "outputs": [
    {
     "data": {
      "text/plain": [
       "28"
      ]
     },
     "execution_count": 8,
     "metadata": {},
     "output_type": "execute_result"
    }
   ],
   "source": [
    "circy = Circle(4.44)\n",
    "circy.getPerimeter()"
   ]
  },
  {
   "cell_type": "markdown",
   "id": "e23326f4",
   "metadata": {},
   "source": [
    "Create a function that takes a list of strings and return a list, sorted from shortest to longest."
   ]
  },
  {
   "cell_type": "code",
   "execution_count": 9,
   "id": "9218cc72",
   "metadata": {},
   "outputs": [],
   "source": [
    "def sort_by_length(in_list):\n",
    "    out_dict, out_list = {}, []\n",
    "    for i in in_list:\n",
    "        out_dict[len(i)] = i\n",
    "    keys = list(out_dict.keys())\n",
    "    keys.sort()\n",
    "    for i in keys:\n",
    "        out_list.append(out_dict[i])\n",
    "    return out_list"
   ]
  },
  {
   "cell_type": "code",
   "execution_count": 10,
   "id": "65a3f5ac",
   "metadata": {},
   "outputs": [
    {
     "data": {
      "text/plain": [
       "['Raphael', 'Leonardo', 'Donatello', 'Michelangelo']"
      ]
     },
     "execution_count": 10,
     "metadata": {},
     "output_type": "execute_result"
    }
   ],
   "source": [
    "sort_by_length([\"Leonardo\", \"Michelangelo\", \"Raphael\", \"Donatello\"])"
   ]
  },
  {
   "cell_type": "markdown",
   "id": "ae5ea8df",
   "metadata": {},
   "source": [
    "Create a function that validates whether three given integers form a Pythagorean triplet. The\n",
    "sum of the squares of the two smallest integers must equal the square of the largest number to\n",
    "be validated."
   ]
  },
  {
   "cell_type": "code",
   "execution_count": 11,
   "id": "4df4a090",
   "metadata": {},
   "outputs": [],
   "source": [
    "is_triplet = lambda a, b, c : True if (a*a + b*b) == c*c else False"
   ]
  },
  {
   "cell_type": "code",
   "execution_count": 12,
   "id": "af162978",
   "metadata": {},
   "outputs": [
    {
     "data": {
      "text/plain": [
       "False"
      ]
     },
     "execution_count": 12,
     "metadata": {},
     "output_type": "execute_result"
    }
   ],
   "source": [
    "is_triplet(3, 4, 6)"
   ]
  }
 ],
 "metadata": {
  "kernelspec": {
   "display_name": "Python 3 (ipykernel)",
   "language": "python",
   "name": "python3"
  },
  "language_info": {
   "codemirror_mode": {
    "name": "ipython",
    "version": 3
   },
   "file_extension": ".py",
   "mimetype": "text/x-python",
   "name": "python",
   "nbconvert_exporter": "python",
   "pygments_lexer": "ipython3",
   "version": "3.9.7"
  }
 },
 "nbformat": 4,
 "nbformat_minor": 5
}
